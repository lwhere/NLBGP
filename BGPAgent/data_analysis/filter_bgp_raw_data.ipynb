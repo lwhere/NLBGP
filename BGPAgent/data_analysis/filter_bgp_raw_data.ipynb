{
 "cells": [
  {
   "cell_type": "code",
   "execution_count": 1,
   "metadata": {},
   "outputs": [],
   "source": [
    "import pandas as pd\n",
    "import json\n",
    "\n",
    "def xls_to_json(file_path, output_path):\n",
    "    # 读取Excel文件\n",
    "    df = pd.read_excel(file_path)\n",
    "    \n",
    "    # 将每一行的数据转换为JSON对象，并存储在一个列表中\n",
    "    data = df.to_dict(orient='records')\n",
    "    \n",
    "    # 将数据写入到JSON文件中\n",
    "    with open(output_path, 'w', encoding='utf-8') as json_file:\n",
    "        json.dump(data, json_file, ensure_ascii=False, indent=4)\n",
    "\n",
    "# 使用示例\n",
    "file_path = '/Users/hugo/Projects/NLBGP/BGPAgent/raw_data/bgpleak.xls'\n",
    "output_path = '/Users/hugo/Projects/NLBGP/BGPAgent/raw_data/bgpleak.json'\n",
    "xls_to_json(file_path, output_path)"
   ]
  },
  {
   "cell_type": "code",
   "execution_count": 4,
   "metadata": {},
   "outputs": [
    {
     "name": "stdout",
     "output_type": "stream",
     "text": [
      "Number of objects with as_path length 11: 157\n",
      "Number of objects with as_path length 12: 138\n",
      "Number of objects with as_path length 9: 130\n",
      "Number of objects with as_path length 10: 163\n",
      "Number of objects with as_path length 14: 51\n",
      "Number of objects with as_path length 16: 14\n",
      "Number of objects with as_path length 7: 84\n",
      "Number of objects with as_path length 8: 106\n",
      "Number of objects with as_path length 13: 90\n",
      "Number of objects with as_path length 15: 21\n",
      "Number of objects with as_path length 19: 2\n",
      "Number of objects with as_path length 6: 54\n",
      "Number of objects with as_path length 17: 2\n",
      "Number of objects with as_path length 18: 2\n",
      "Number of different as_path lengths: 14\n",
      "Number of objects: 1014\n"
     ]
    }
   ],
   "source": [
    "import json\n",
    "from collections import defaultdict\n",
    "\n",
    "def process_as_path(as_path):\n",
    "    # 将as_path字符串按空格分隔\n",
    "    as_numbers = as_path.strip().split()\n",
    "    \n",
    "    # 去除连续重复的对象\n",
    "    processed_as_numbers = []\n",
    "    prev_number = None\n",
    "    for number in as_numbers:\n",
    "        if number != prev_number:\n",
    "            processed_as_numbers.append(number)\n",
    "        prev_number = number\n",
    "    \n",
    "    # 将分隔符从空格改为\"-\"\n",
    "    return '-'.join(processed_as_numbers)\n",
    "\n",
    "def process_and_separate_json(input_path, output_directory):\n",
    "    # 读取JSON文件\n",
    "    with open(input_path, 'r', encoding='utf-8') as json_file:\n",
    "        data = json.load(json_file)\n",
    "    \n",
    "    length_to_data = defaultdict(list)\n",
    "\n",
    "    # 处理每个对象的as_path字段\n",
    "    for obj in data:\n",
    "        if 'as_path' in obj:\n",
    "            obj['as_path'] = process_as_path(obj['as_path'])\n",
    "            as_path_length = len(obj['as_path'].split('-'))\n",
    "            length_to_data[as_path_length].append(obj)\n",
    "    \n",
    "    # 将按长度分类后的数据写回到不同的JSON文件\n",
    "    for length, objects in length_to_data.items():\n",
    "        output_path = f\"{output_directory}/as_path_length_{length}.json\"\n",
    "        with open(output_path, 'w', encoding='utf-8') as json_file:\n",
    "            json.dump(objects, json_file, ensure_ascii=False, indent=4)\n",
    "\n",
    "    # 打印每个长度对应的对象个数\n",
    "    for length, objects in length_to_data.items():\n",
    "        print(f\"Number of objects with as_path length {length}: {len(objects)}\")\n",
    "\n",
    "    # 打印总共有多少个不同长度的as_path\n",
    "    print(f\"Number of different as_path lengths: {len(length_to_data)}\")\n",
    "\n",
    "    # 打印总共有多少个对象\n",
    "    print(f\"Number of objects: {len(data)}\")\n",
    "\n",
    "# 使用示例\n",
    "input_path = '/Users/hugo/Projects/NLBGP/BGPAgent/raw_data/bgpleak.json'            # 替换为你的输入JSON文件路径\n",
    "output_directory = '/Users/hugo/Projects/NLBGP/BGPAgent/filtered_data/bgpleak_different_length'               # 替换为你希望输出的目录路径\n",
    "process_and_separate_json(input_path, output_directory)"
   ]
  }
 ],
 "metadata": {
  "kernelspec": {
   "display_name": "hugo",
   "language": "python",
   "name": "python3"
  },
  "language_info": {
   "codemirror_mode": {
    "name": "ipython",
    "version": 3
   },
   "file_extension": ".py",
   "mimetype": "text/x-python",
   "name": "python",
   "nbconvert_exporter": "python",
   "pygments_lexer": "ipython3",
   "version": "3.10.13"
  }
 },
 "nbformat": 4,
 "nbformat_minor": 2
}
